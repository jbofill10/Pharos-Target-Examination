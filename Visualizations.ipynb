{
 "cells": [
  {
   "cell_type": "markdown",
   "source": [
    "# TCRD Target Visualizations\n",
    "\n",
    "I am personally interested in the Targets that are in the Tdark stage that are on the brink of advancing because discovering things is much more exciting, so that will be the focus of this notebook."
   ],
   "metadata": {
    "collapsed": false,
    "pycharm": {
     "name": "#%% md\n"
    }
   }
  },
  {
   "cell_type": "code",
   "execution_count": 78,
   "metadata": {
    "collapsed": true,
    "pycharm": {
     "name": "#%%\n"
    }
   },
   "outputs": [],
   "source": [
    "# Importing what I will be using\n",
    "import pandas as pd\n",
    "import seaborn as sns\n",
    "import numpy as np\n",
    "import matplotlib.pyplot as plt\n",
    "import matplotlib.style as style\n",
    "\n",
    "targets = pd.read_pickle('Data/pharos_data')\n",
    "generif = pd.read_pickle('Data/generif')\n",
    "ortholog = pd.read_pickle('Data/ortholog')\n",
    "pm_scores = pd.read_pickle('Data/pm_scores')\n",
    "pt_scores = pd.read_pickle('Data/pt_scores')\n",
    "ab_info = pd.read_pickle('Data/tdl_info')\n",
    "style.use('seaborn-poster')\n"
   ]
  },
  {
   "cell_type": "markdown",
   "source": [
    "The actual defined goals of the project are to find any Tdark targets that could be ready to achieve a new TDL level, and then potentially find new features that can also help indicate that a target is close to getting a new TDL level.\n",
    "\n",
    "To start, I will try to find potential targets that are close to achieving a new TDL level, and then compare those targets to each other to see if there are similar trends among those targets in the TCDR DB to see if I can find any new features which can also indicate a potential change in TDL level."
   ],
   "metadata": {
    "collapsed": false,
    "pycharm": {
     "name": "#%% md\n"
    }
   }
  },
  {
   "cell_type": "code",
   "execution_count": 79,
   "outputs": [],
   "source": [
    "# Extracting only relevant information\n",
    "\n",
    "targets = targets[targets['tdl'] == 'Tdark'].reset_index(drop=True)\n",
    "\n",
    "pm_scores = pm_scores[pm_scores['protein_id'].isin(targets['id'])].reset_index(drop=True)\n",
    "pt_scores = pt_scores[pt_scores['protein_id'].isin(targets['id'])].reset_index(drop=True)\n",
    "generif = generif[generif['protein_id'].isin(targets['id'])].reset_index(drop=True)\n",
    "ortholog = ortholog[ortholog['protein_id'].isin(targets['id'])].reset_index(drop=True)"
   ],
   "metadata": {
    "collapsed": false,
    "pycharm": {
     "name": "#%%\n"
    }
   }
  },
  {
   "cell_type": "markdown",
   "source": [
    "I have filtered out all the data sets to only contain information on proteins that are Tdark, which will make it easier to compare and visualize"
   ],
   "metadata": {
    "collapsed": false,
    "pycharm": {
     "name": "#%% md\n"
    }
   }
  },
  {
   "cell_type": "code",
   "execution_count": 80,
   "outputs": [
    {
     "data": {
      "text/plain": "   id                                               name           ttype  \\\n0   2                    Uncharacterized protein C7orf77  Single Protein   \n1   3                    Uncharacterized protein C8orf34  Single Protein   \n2   5                    Uncharacterized protein C8orf76  Single Protein   \n3  10  Cyclic nucleotide-binding domain-containing pr...  Single Protein   \n4  11  Cyclic nucleotide-binding domain-containing pr...  Single Protein   \n\n  description comment    tdl  idg   fam famext  \n0        None    None  Tdark    0  None   None  \n1        None    None  Tdark    0  None   None  \n2        None    None  Tdark    0  None   None  \n3        None    None  Tdark    0  None   None  \n4        None    None  Tdark    0  None   None  ",
      "text/html": "<div>\n<style scoped>\n    .dataframe tbody tr th:only-of-type {\n        vertical-align: middle;\n    }\n\n    .dataframe tbody tr th {\n        vertical-align: top;\n    }\n\n    .dataframe thead th {\n        text-align: right;\n    }\n</style>\n<table border=\"1\" class=\"dataframe\">\n  <thead>\n    <tr style=\"text-align: right;\">\n      <th></th>\n      <th>id</th>\n      <th>name</th>\n      <th>ttype</th>\n      <th>description</th>\n      <th>comment</th>\n      <th>tdl</th>\n      <th>idg</th>\n      <th>fam</th>\n      <th>famext</th>\n    </tr>\n  </thead>\n  <tbody>\n    <tr>\n      <th>0</th>\n      <td>2</td>\n      <td>Uncharacterized protein C7orf77</td>\n      <td>Single Protein</td>\n      <td>None</td>\n      <td>None</td>\n      <td>Tdark</td>\n      <td>0</td>\n      <td>None</td>\n      <td>None</td>\n    </tr>\n    <tr>\n      <th>1</th>\n      <td>3</td>\n      <td>Uncharacterized protein C8orf34</td>\n      <td>Single Protein</td>\n      <td>None</td>\n      <td>None</td>\n      <td>Tdark</td>\n      <td>0</td>\n      <td>None</td>\n      <td>None</td>\n    </tr>\n    <tr>\n      <th>2</th>\n      <td>5</td>\n      <td>Uncharacterized protein C8orf76</td>\n      <td>Single Protein</td>\n      <td>None</td>\n      <td>None</td>\n      <td>Tdark</td>\n      <td>0</td>\n      <td>None</td>\n      <td>None</td>\n    </tr>\n    <tr>\n      <th>3</th>\n      <td>10</td>\n      <td>Cyclic nucleotide-binding domain-containing pr...</td>\n      <td>Single Protein</td>\n      <td>None</td>\n      <td>None</td>\n      <td>Tdark</td>\n      <td>0</td>\n      <td>None</td>\n      <td>None</td>\n    </tr>\n    <tr>\n      <th>4</th>\n      <td>11</td>\n      <td>Cyclic nucleotide-binding domain-containing pr...</td>\n      <td>Single Protein</td>\n      <td>None</td>\n      <td>None</td>\n      <td>Tdark</td>\n      <td>0</td>\n      <td>None</td>\n      <td>None</td>\n    </tr>\n  </tbody>\n</table>\n</div>"
     },
     "execution_count": 80,
     "metadata": {},
     "output_type": "execute_result"
    }
   ],
   "source": [
    "targets.head()"
   ],
   "metadata": {
    "collapsed": false,
    "pycharm": {
     "name": "#%%\n"
    }
   }
  },
  {
   "cell_type": "code",
   "execution_count": 81,
   "outputs": [
    {
     "data": {
      "text/plain": "    id  protein_id  year     score\n0  476       16473  2010  0.666667\n1  477       16473  2012  0.800000\n2  478       16473  2015  1.000000\n3  479       16473  2019  0.033333\n4  708       14553  2019  1.607143",
      "text/html": "<div>\n<style scoped>\n    .dataframe tbody tr th:only-of-type {\n        vertical-align: middle;\n    }\n\n    .dataframe tbody tr th {\n        vertical-align: top;\n    }\n\n    .dataframe thead th {\n        text-align: right;\n    }\n</style>\n<table border=\"1\" class=\"dataframe\">\n  <thead>\n    <tr style=\"text-align: right;\">\n      <th></th>\n      <th>id</th>\n      <th>protein_id</th>\n      <th>year</th>\n      <th>score</th>\n    </tr>\n  </thead>\n  <tbody>\n    <tr>\n      <th>0</th>\n      <td>476</td>\n      <td>16473</td>\n      <td>2010</td>\n      <td>0.666667</td>\n    </tr>\n    <tr>\n      <th>1</th>\n      <td>477</td>\n      <td>16473</td>\n      <td>2012</td>\n      <td>0.800000</td>\n    </tr>\n    <tr>\n      <th>2</th>\n      <td>478</td>\n      <td>16473</td>\n      <td>2015</td>\n      <td>1.000000</td>\n    </tr>\n    <tr>\n      <th>3</th>\n      <td>479</td>\n      <td>16473</td>\n      <td>2019</td>\n      <td>0.033333</td>\n    </tr>\n    <tr>\n      <th>4</th>\n      <td>708</td>\n      <td>14553</td>\n      <td>2019</td>\n      <td>1.607143</td>\n    </tr>\n  </tbody>\n</table>\n</div>"
     },
     "execution_count": 81,
     "metadata": {},
     "output_type": "execute_result"
    }
   ],
   "source": [
    "pm_scores.head()"
   ],
   "metadata": {
    "collapsed": false,
    "pycharm": {
     "name": "#%%\n"
    }
   }
  },
  {
   "cell_type": "code",
   "execution_count": 82,
   "outputs": [
    {
     "data": {
      "text/plain": "    id  protein_id  year     score\n0  258        2594  2015  0.333333\n1  259        2594  2016  0.166667\n2  260        2594  2018  0.142857\n3  261        9038  1974  1.000000\n4  262        9038  1975  1.000000",
      "text/html": "<div>\n<style scoped>\n    .dataframe tbody tr th:only-of-type {\n        vertical-align: middle;\n    }\n\n    .dataframe tbody tr th {\n        vertical-align: top;\n    }\n\n    .dataframe thead th {\n        text-align: right;\n    }\n</style>\n<table border=\"1\" class=\"dataframe\">\n  <thead>\n    <tr style=\"text-align: right;\">\n      <th></th>\n      <th>id</th>\n      <th>protein_id</th>\n      <th>year</th>\n      <th>score</th>\n    </tr>\n  </thead>\n  <tbody>\n    <tr>\n      <th>0</th>\n      <td>258</td>\n      <td>2594</td>\n      <td>2015</td>\n      <td>0.333333</td>\n    </tr>\n    <tr>\n      <th>1</th>\n      <td>259</td>\n      <td>2594</td>\n      <td>2016</td>\n      <td>0.166667</td>\n    </tr>\n    <tr>\n      <th>2</th>\n      <td>260</td>\n      <td>2594</td>\n      <td>2018</td>\n      <td>0.142857</td>\n    </tr>\n    <tr>\n      <th>3</th>\n      <td>261</td>\n      <td>9038</td>\n      <td>1974</td>\n      <td>1.000000</td>\n    </tr>\n    <tr>\n      <th>4</th>\n      <td>262</td>\n      <td>9038</td>\n      <td>1975</td>\n      <td>1.000000</td>\n    </tr>\n  </tbody>\n</table>\n</div>"
     },
     "execution_count": 82,
     "metadata": {},
     "output_type": "execute_result"
    }
   ],
   "source": [
    "pt_scores.head()"
   ],
   "metadata": {
    "collapsed": false,
    "pycharm": {
     "name": "#%%\n"
    }
   }
  },
  {
   "cell_type": "code",
   "execution_count": 83,
   "outputs": [
    {
     "data": {
      "text/plain": "    id  protein_id         pubmed_ids  \\\n0   68           5           20379614   \n1  109          10           20379614   \n2  110          10           18825932   \n3  111          12  20877624|16385451   \n4  255          26           19864490   \n\n                                                text      years  \n0  Clinical trial of gene-disease association and...       None  \n1  Clinical trial of gene-disease association and...       None  \n2  Observational study of gene-disease associatio...       2008  \n3  Observational study of gene-disease associatio...  2010|2006  \n4  Consortin is a trans-Golgi network cargo recep...       2010  ",
      "text/html": "<div>\n<style scoped>\n    .dataframe tbody tr th:only-of-type {\n        vertical-align: middle;\n    }\n\n    .dataframe tbody tr th {\n        vertical-align: top;\n    }\n\n    .dataframe thead th {\n        text-align: right;\n    }\n</style>\n<table border=\"1\" class=\"dataframe\">\n  <thead>\n    <tr style=\"text-align: right;\">\n      <th></th>\n      <th>id</th>\n      <th>protein_id</th>\n      <th>pubmed_ids</th>\n      <th>text</th>\n      <th>years</th>\n    </tr>\n  </thead>\n  <tbody>\n    <tr>\n      <th>0</th>\n      <td>68</td>\n      <td>5</td>\n      <td>20379614</td>\n      <td>Clinical trial of gene-disease association and...</td>\n      <td>None</td>\n    </tr>\n    <tr>\n      <th>1</th>\n      <td>109</td>\n      <td>10</td>\n      <td>20379614</td>\n      <td>Clinical trial of gene-disease association and...</td>\n      <td>None</td>\n    </tr>\n    <tr>\n      <th>2</th>\n      <td>110</td>\n      <td>10</td>\n      <td>18825932</td>\n      <td>Observational study of gene-disease associatio...</td>\n      <td>2008</td>\n    </tr>\n    <tr>\n      <th>3</th>\n      <td>111</td>\n      <td>12</td>\n      <td>20877624|16385451</td>\n      <td>Observational study of gene-disease associatio...</td>\n      <td>2010|2006</td>\n    </tr>\n    <tr>\n      <th>4</th>\n      <td>255</td>\n      <td>26</td>\n      <td>19864490</td>\n      <td>Consortin is a trans-Golgi network cargo recep...</td>\n      <td>2010</td>\n    </tr>\n  </tbody>\n</table>\n</div>"
     },
     "execution_count": 83,
     "metadata": {},
     "output_type": "execute_result"
    }
   ],
   "source": [
    "generif.head()"
   ],
   "metadata": {
    "collapsed": false,
    "pycharm": {
     "name": "#%%\n"
    }
   }
  },
  {
   "cell_type": "code",
   "execution_count": 84,
   "outputs": [
    {
     "data": {
      "text/plain": "       id  protein_id  taxid  species        db_id    geneid         symbol  \\\n0  178771           3   9598    Chimp    VGNC:3030  464223.0      C8H8orf34   \n1  178772           3   9544  Macaque         None  705490.0      C8H8orf34   \n2  178773           3  10090    Mouse  MGI:2444149  320492.0  A830018L16Rik   \n3  178774           3  10116      Rat  RGD:1564053  500390.0     RGD1564053   \n4  178775           3   9615      Dog   VGNC:52544  477905.0     C29H8orf34   \n\n                                             name  \\\n0                    chromosome 8 C8orf34 homolog   \n1  chromosome 8 open reading frame, human C8orf34   \n2                      RIKEN cDNA A830018L16 gene   \n3                 similar to hypothetical protein   \n4                   chromosome 29 C8orf34 homolog   \n\n                                             mod_url                  sources  \n0                                               None  Inparanoid, OMA, EggNOG  \n1                                               None  Inparanoid, OMA, EggNOG  \n2  http://www.informatics.jax.org/marker/MGI:2444149  Inparanoid, OMA, EggNOG  \n3  http://rgd.mcw.edu/rgdweb/report/gene/main.htm...  Inparanoid, OMA, EggNOG  \n4                                               None  Inparanoid, OMA, EggNOG  ",
      "text/html": "<div>\n<style scoped>\n    .dataframe tbody tr th:only-of-type {\n        vertical-align: middle;\n    }\n\n    .dataframe tbody tr th {\n        vertical-align: top;\n    }\n\n    .dataframe thead th {\n        text-align: right;\n    }\n</style>\n<table border=\"1\" class=\"dataframe\">\n  <thead>\n    <tr style=\"text-align: right;\">\n      <th></th>\n      <th>id</th>\n      <th>protein_id</th>\n      <th>taxid</th>\n      <th>species</th>\n      <th>db_id</th>\n      <th>geneid</th>\n      <th>symbol</th>\n      <th>name</th>\n      <th>mod_url</th>\n      <th>sources</th>\n    </tr>\n  </thead>\n  <tbody>\n    <tr>\n      <th>0</th>\n      <td>178771</td>\n      <td>3</td>\n      <td>9598</td>\n      <td>Chimp</td>\n      <td>VGNC:3030</td>\n      <td>464223.0</td>\n      <td>C8H8orf34</td>\n      <td>chromosome 8 C8orf34 homolog</td>\n      <td>None</td>\n      <td>Inparanoid, OMA, EggNOG</td>\n    </tr>\n    <tr>\n      <th>1</th>\n      <td>178772</td>\n      <td>3</td>\n      <td>9544</td>\n      <td>Macaque</td>\n      <td>None</td>\n      <td>705490.0</td>\n      <td>C8H8orf34</td>\n      <td>chromosome 8 open reading frame, human C8orf34</td>\n      <td>None</td>\n      <td>Inparanoid, OMA, EggNOG</td>\n    </tr>\n    <tr>\n      <th>2</th>\n      <td>178773</td>\n      <td>3</td>\n      <td>10090</td>\n      <td>Mouse</td>\n      <td>MGI:2444149</td>\n      <td>320492.0</td>\n      <td>A830018L16Rik</td>\n      <td>RIKEN cDNA A830018L16 gene</td>\n      <td>http://www.informatics.jax.org/marker/MGI:2444149</td>\n      <td>Inparanoid, OMA, EggNOG</td>\n    </tr>\n    <tr>\n      <th>3</th>\n      <td>178774</td>\n      <td>3</td>\n      <td>10116</td>\n      <td>Rat</td>\n      <td>RGD:1564053</td>\n      <td>500390.0</td>\n      <td>RGD1564053</td>\n      <td>similar to hypothetical protein</td>\n      <td>http://rgd.mcw.edu/rgdweb/report/gene/main.htm...</td>\n      <td>Inparanoid, OMA, EggNOG</td>\n    </tr>\n    <tr>\n      <th>4</th>\n      <td>178775</td>\n      <td>3</td>\n      <td>9615</td>\n      <td>Dog</td>\n      <td>VGNC:52544</td>\n      <td>477905.0</td>\n      <td>C29H8orf34</td>\n      <td>chromosome 29 C8orf34 homolog</td>\n      <td>None</td>\n      <td>Inparanoid, OMA, EggNOG</td>\n    </tr>\n  </tbody>\n</table>\n</div>"
     },
     "execution_count": 84,
     "metadata": {},
     "output_type": "execute_result"
    }
   ],
   "source": [
    "ortholog.head()"
   ],
   "metadata": {
    "collapsed": false,
    "pycharm": {
     "name": "#%%\n"
    }
   }
  },
  {
   "cell_type": "markdown",
   "source": [
    "# Looking at Tdark proteins"
   ],
   "metadata": {
    "collapsed": false,
    "pycharm": {
     "name": "#%% md\n"
    }
   }
  }
 ],
 "metadata": {
  "kernelspec": {
   "display_name": "Python 3",
   "language": "python",
   "name": "python3"
  },
  "language_info": {
   "codemirror_mode": {
    "name": "ipython",
    "version": 2
   },
   "file_extension": ".py",
   "mimetype": "text/x-python",
   "name": "python",
   "nbconvert_exporter": "python",
   "pygments_lexer": "ipython2",
   "version": "2.7.6"
  }
 },
 "nbformat": 4,
 "nbformat_minor": 0
}