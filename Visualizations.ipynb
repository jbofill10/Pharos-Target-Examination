{
 "cells": [
  {
   "cell_type": "markdown",
   "source": [
    "# TCRD Target Visualizations\n",
    "\n",
    "I am personally interested in the Targets that are in the Tdark stage that are on the brink of advancing because discovering things is much more exciting, so that will be the focus of this notebook."
   ],
   "metadata": {
    "collapsed": false,
    "pycharm": {
     "name": "#%% md\n"
    }
   }
  },
  {
   "cell_type": "code",
   "execution_count": 23,
   "metadata": {
    "collapsed": true,
    "pycharm": {
     "name": "#%%\n"
    }
   },
   "outputs": [],
   "source": [
    "# Importing what I will be using\n",
    "import pandas as pd\n",
    "import seaborn as sns\n",
    "import numpy as np\n",
    "import matplotlib.pyplot as plt\n",
    "import matplotlib.style as style\n",
    "\n",
    "df = pd.read_pickle('Data/pharos_data')\n",
    "generif = pd.read_pickle('Data/generif')\n",
    "ligands = pd.read_pickle('Data/ligands')\n",
    "ortholog = pd.read_pickle('Data/ortholog')\n",
    "pm_scores = pd.read_pickle('Data/pm_scores')\n",
    "pt_scores = pd.read_pickle('Data/pt_scores')\n",
    "\n",
    "style.use('seaborn-poster')\n"
   ]
  }
 ],
 "metadata": {
  "kernelspec": {
   "display_name": "Python 3",
   "language": "python",
   "name": "python3"
  },
  "language_info": {
   "codemirror_mode": {
    "name": "ipython",
    "version": 2
   },
   "file_extension": ".py",
   "mimetype": "text/x-python",
   "name": "python",
   "nbconvert_exporter": "python",
   "pygments_lexer": "ipython2",
   "version": "2.7.6"
  }
 },
 "nbformat": 4,
 "nbformat_minor": 0
}